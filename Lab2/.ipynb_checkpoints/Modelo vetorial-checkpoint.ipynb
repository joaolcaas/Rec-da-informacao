{
 "cells": [
  {
   "cell_type": "markdown",
   "metadata": {},
   "source": [
    "Para esse segundo lab, vamos usar OO para criar nossos objetos e encapsulá-los de maneira mais eficaz\n"
   ]
  },
  {
   "cell_type": "code",
   "execution_count": 45,
   "metadata": {},
   "outputs": [],
   "source": [
    "import pandas as pd\n",
    "import nltk as nltk"
   ]
  },
  {
   "cell_type": "code",
   "execution_count": 48,
   "metadata": {},
   "outputs": [
    {
     "data": {
      "text/html": [
       "<div>\n",
       "<style scoped>\n",
       "    .dataframe tbody tr th:only-of-type {\n",
       "        vertical-align: middle;\n",
       "    }\n",
       "\n",
       "    .dataframe tbody tr th {\n",
       "        vertical-align: top;\n",
       "    }\n",
       "\n",
       "    .dataframe thead th {\n",
       "        text-align: right;\n",
       "    }\n",
       "</style>\n",
       "<table border=\"1\" class=\"dataframe\">\n",
       "  <thead>\n",
       "    <tr style=\"text-align: right;\">\n",
       "      <th></th>\n",
       "      <th>titulo</th>\n",
       "      <th>conteudo</th>\n",
       "      <th>idNoticia</th>\n",
       "    </tr>\n",
       "  </thead>\n",
       "  <tbody>\n",
       "    <tr>\n",
       "      <th>0</th>\n",
       "      <td>11 dos eleitores do País são filiados a legendas</td>\n",
       "      <td>Há porém variações regionais nesse fenômeno En...</td>\n",
       "      <td>7617</td>\n",
       "    </tr>\n",
       "    <tr>\n",
       "      <th>1</th>\n",
       "      <td>11 executivos integram 1º pedido de condenação...</td>\n",
       "      <td>CURITIBA A força-tarefa da Operação Lava Jato ...</td>\n",
       "      <td>412</td>\n",
       "    </tr>\n",
       "    <tr>\n",
       "      <th>2</th>\n",
       "      <td>11 executivos integram 1º pedido de condenação...</td>\n",
       "      <td>CURITIBA A força-tarefa da Operação Lava Jato ...</td>\n",
       "      <td>415</td>\n",
       "    </tr>\n",
       "    <tr>\n",
       "      <th>3</th>\n",
       "      <td>13 de deputados do PMDB quer romper com PT</td>\n",
       "      <td>O Estado ouviu 54 dos 74 deputados do PMDB em ...</td>\n",
       "      <td>6736</td>\n",
       "    </tr>\n",
       "    <tr>\n",
       "      <th>4</th>\n",
       "      <td>2014 começou em 2007</td>\n",
       "      <td>O estudo do Estadão Dados publicado ontem sobr...</td>\n",
       "      <td>7611</td>\n",
       "    </tr>\n",
       "  </tbody>\n",
       "</table>\n",
       "</div>"
      ],
      "text/plain": [
       "                                              titulo  \\\n",
       "0   11 dos eleitores do País são filiados a legendas   \n",
       "1  11 executivos integram 1º pedido de condenação...   \n",
       "2  11 executivos integram 1º pedido de condenação...   \n",
       "3         13 de deputados do PMDB quer romper com PT   \n",
       "4                               2014 começou em 2007   \n",
       "\n",
       "                                            conteudo  idNoticia  \n",
       "0  Há porém variações regionais nesse fenômeno En...       7617  \n",
       "1  CURITIBA A força-tarefa da Operação Lava Jato ...        412  \n",
       "2  CURITIBA A força-tarefa da Operação Lava Jato ...        415  \n",
       "3  O Estado ouviu 54 dos 74 deputados do PMDB em ...       6736  \n",
       "4  O estudo do Estadão Dados publicado ontem sobr...       7611  "
      ]
     },
     "execution_count": 48,
     "metadata": {},
     "output_type": "execute_result"
    }
   ],
   "source": [
    "data_depois = pd.read_csv(\"C:\\\\Users\\\\joao_\\\\OneDrive\\\\Documentos\\\\Git\\\\Rec-da-informacao\\\\Lab2\\\\noticias_estadao_lab1.csv\")\n",
    "data_depois.head()"
   ]
  },
  {
   "cell_type": "code",
   "execution_count": 44,
   "metadata": {},
   "outputs": [],
   "source": [
    "class Word(): # classe que vai encapsular as métricas necessária para o lab2\n",
    "    def __init__(self,word,term_frequency):\n",
    "        self.word = word\n",
    "        self.term_frequency = term_frequency\n",
    "        self.document = []\n",
    "        \n",
    "    def return_word(self):\n",
    "        return self.word\n",
    "    \n",
    "    def return_term_frequency(self):\n",
    "        return self.term_frequency\n",
    "    \n",
    "    def return_document(self):\n",
    "        return self.document\n"
   ]
  },
  {
   "cell_type": "code",
   "execution_count": 55,
   "metadata": {},
   "outputs": [],
   "source": [
    "#funcao para buscar as palavras desejadas\n",
    "id_news = dict()  # provavel dicionario de objetos\n",
    "def busca_termo(palavra_pesquisada):\n",
    "    contador = 0\n",
    "    if(palavra_pesquisada in id_news):\n",
    "        return id_news[palavra_pesquisada]\n",
    "    else:\n",
    "        for x in range(data_depois.shape[0]):             #fazer disso uma funcao  usar -> df.shape[0]  \n",
    "            titulo = data_depois.loc[x,'titulo']         #pego o titulo df.loc -> provavelmente no lab será df.ix\n",
    "            conteudo = data_depois.loc[x,'conteudo']      #pego o conteudo\n",
    "            newWorld = titulo +  \" \" +  conteudo      #concateno os dois separado por espaço\n",
    "            newNova = nltk.word_tokenize(newWorld.lower())   #faço split usando nltk botando tudo para lower case\n",
    "            for y in range(len(newNova)):               #faço outro for para percorrer esse novo split procurando a palavra que eu quero\n",
    "                if(newNova[y] == palavra_pesquisada):  \n",
    "                    if(palavra_pesquisada in id_news):\n",
    "                        id_news[palavra_pesquisada].append(data_depois.loc[x,'idNoticia'])              #posso usar o x do primeiro for por que é o mesmo número do ID\n",
    "                        #break;                        #parar para que eu não coloque mais do mesmo indice, caso apareça mais de uma vez\n",
    "                        contador += 1\n",
    "                        \n",
    "                    else:\n",
    "                        id_news[palavra_pesquisada] = [data_depois.loc[x,'idNoticia']]\n",
    "                        contador += 1  \n",
    "        objetoRetorno = Word(palavra_pesquisada,contador,id_news[palavra_pesquisada])\n",
    "        return objetoRetorno"
   ]
  },
  {
   "cell_type": "code",
   "execution_count": 58,
   "metadata": {},
   "outputs": [
    {
     "ename": "AttributeError",
     "evalue": "'list' object has no attribute 'return_word'",
     "output_type": "error",
     "traceback": [
      "\u001b[1;31m---------------------------------------------------------------------------\u001b[0m",
      "\u001b[1;31mAttributeError\u001b[0m                            Traceback (most recent call last)",
      "\u001b[1;32m<ipython-input-58-4f5b590f555c>\u001b[0m in \u001b[0;36m<module>\u001b[1;34m()\u001b[0m\n\u001b[1;32m----> 1\u001b[1;33m \u001b[0mbusca_termo\u001b[0m\u001b[1;33m(\u001b[0m\u001b[1;34m\"pt\"\u001b[0m\u001b[1;33m)\u001b[0m\u001b[1;33m.\u001b[0m\u001b[0mreturn_word\u001b[0m\u001b[1;33m\u001b[0m\u001b[0m\n\u001b[0m",
      "\u001b[1;31mAttributeError\u001b[0m: 'list' object has no attribute 'return_word'"
     ]
    }
   ],
   "source": [
    "busca_termo(\"pt\")"
   ]
  }
 ],
 "metadata": {
  "kernelspec": {
   "display_name": "Python 3",
   "language": "python",
   "name": "python3"
  },
  "language_info": {
   "codemirror_mode": {
    "name": "ipython",
    "version": 3
   },
   "file_extension": ".py",
   "mimetype": "text/x-python",
   "name": "python",
   "nbconvert_exporter": "python",
   "pygments_lexer": "ipython3",
   "version": "3.6.4"
  }
 },
 "nbformat": 4,
 "nbformat_minor": 2
}
