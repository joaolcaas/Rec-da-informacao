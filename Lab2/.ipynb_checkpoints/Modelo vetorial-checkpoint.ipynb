{
 "cells": [
  {
   "cell_type": "markdown",
   "metadata": {},
   "source": [
    "Para esse segundo lab, vamos usar OO para criar nossos objetos e encapsulá-los de maneira mais eficaz\n"
   ]
  },
  {
   "cell_type": "code",
   "execution_count": 1,
   "metadata": {},
   "outputs": [],
   "source": [
    "import pandas as pd\n",
    "import nltk as nltk\n",
    "import operator as operator\n",
    "import math as math"
   ]
  },
  {
   "cell_type": "code",
   "execution_count": 2,
   "metadata": {},
   "outputs": [],
   "source": [
    "data_depois = pd.read_csv(\"./Data/estadao_noticias_eleicao.csv\")"
   ]
  },
  {
   "cell_type": "code",
   "execution_count": 3,
   "metadata": {},
   "outputs": [],
   "source": [
    "num_loop = data_depois.shape[0]"
   ]
  },
  {
   "cell_type": "code",
   "execution_count": 4,
   "metadata": {},
   "outputs": [
    {
     "data": {
      "text/html": [
       "<div>\n",
       "<style scoped>\n",
       "    .dataframe tbody tr th:only-of-type {\n",
       "        vertical-align: middle;\n",
       "    }\n",
       "\n",
       "    .dataframe tbody tr th {\n",
       "        vertical-align: top;\n",
       "    }\n",
       "\n",
       "    .dataframe thead th {\n",
       "        text-align: right;\n",
       "    }\n",
       "</style>\n",
       "<table border=\"1\" class=\"dataframe\">\n",
       "  <thead>\n",
       "    <tr style=\"text-align: right;\">\n",
       "      <th></th>\n",
       "      <th>timestamp</th>\n",
       "      <th>titulo</th>\n",
       "      <th>subTitulo</th>\n",
       "      <th>conteudo</th>\n",
       "      <th>url</th>\n",
       "      <th>idNoticia</th>\n",
       "    </tr>\n",
       "  </thead>\n",
       "  <tbody>\n",
       "    <tr>\n",
       "      <th>0</th>\n",
       "      <td>2014-12-31T00:00:00Z</td>\n",
       "      <td>PT espera 30 mil pessoas em festa na Esplanada</td>\n",
       "      <td>Objetivo é demonstrar apoio popular a Dilma e ...</td>\n",
       "      <td>BRASÍLIA - Após o desgaste provocado com o lan...</td>\n",
       "      <td>http://politica.estadao.com.br/noticias/geral,...</td>\n",
       "      <td>1</td>\n",
       "    </tr>\n",
       "    <tr>\n",
       "      <th>1</th>\n",
       "      <td>2014-12-31T00:00:00Z</td>\n",
       "      <td>Alckmin toma posse de olho no Planalto</td>\n",
       "      <td>Governador reeleito tenta amarrar tucanos paul...</td>\n",
       "      <td>Reeleito em outubro, o governador tucano Geral...</td>\n",
       "      <td>http://politica.estadao.com.br/noticias/geral,...</td>\n",
       "      <td>2</td>\n",
       "    </tr>\n",
       "    <tr>\n",
       "      <th>2</th>\n",
       "      <td>2014-12-31T00:00:00Z</td>\n",
       "      <td>Seis obstáculos e desafios do segundo mandato ...</td>\n",
       "      <td>Em meio a escândalo de corrupção, presidente t...</td>\n",
       "      <td>1. Rearranjo das contas A nova equipe econôm...</td>\n",
       "      <td>http://politica.estadao.com.br/noticias/geral,...</td>\n",
       "      <td>3</td>\n",
       "    </tr>\n",
       "    <tr>\n",
       "      <th>3</th>\n",
       "      <td>2014-12-31T00:00:00Z</td>\n",
       "      <td></td>\n",
       "      <td>Veja as principais fotos do dia e dos eventos ...</td>\n",
       "      <td></td>\n",
       "      <td>http://fotos.estadao.com.br/fotos/politica,dil...</td>\n",
       "      <td>4</td>\n",
       "    </tr>\n",
       "    <tr>\n",
       "      <th>4</th>\n",
       "      <td>2014-12-31T00:00:00Z</td>\n",
       "      <td></td>\n",
       "      <td>Veja as principais fotos do dia e dos eventos ...</td>\n",
       "      <td></td>\n",
       "      <td>http://fotos.estadao.com.br/fotos/politica,dil...</td>\n",
       "      <td>5</td>\n",
       "    </tr>\n",
       "  </tbody>\n",
       "</table>\n",
       "</div>"
      ],
      "text/plain": [
       "              timestamp                                             titulo  \\\n",
       "0  2014-12-31T00:00:00Z     PT espera 30 mil pessoas em festa na Esplanada   \n",
       "1  2014-12-31T00:00:00Z             Alckmin toma posse de olho no Planalto   \n",
       "2  2014-12-31T00:00:00Z  Seis obstáculos e desafios do segundo mandato ...   \n",
       "3  2014-12-31T00:00:00Z                                                      \n",
       "4  2014-12-31T00:00:00Z                                                      \n",
       "\n",
       "                                           subTitulo  \\\n",
       "0  Objetivo é demonstrar apoio popular a Dilma e ...   \n",
       "1  Governador reeleito tenta amarrar tucanos paul...   \n",
       "2  Em meio a escândalo de corrupção, presidente t...   \n",
       "3  Veja as principais fotos do dia e dos eventos ...   \n",
       "4  Veja as principais fotos do dia e dos eventos ...   \n",
       "\n",
       "                                            conteudo  \\\n",
       "0  BRASÍLIA - Após o desgaste provocado com o lan...   \n",
       "1  Reeleito em outubro, o governador tucano Geral...   \n",
       "2    1. Rearranjo das contas A nova equipe econôm...   \n",
       "3                                                      \n",
       "4                                                      \n",
       "\n",
       "                                                 url  idNoticia  \n",
       "0  http://politica.estadao.com.br/noticias/geral,...          1  \n",
       "1  http://politica.estadao.com.br/noticias/geral,...          2  \n",
       "2  http://politica.estadao.com.br/noticias/geral,...          3  \n",
       "3  http://fotos.estadao.com.br/fotos/politica,dil...          4  \n",
       "4  http://fotos.estadao.com.br/fotos/politica,dil...          5  "
      ]
     },
     "execution_count": 4,
     "metadata": {},
     "output_type": "execute_result"
    }
   ],
   "source": [
    "#tratando os NaN\n",
    "data_depois = data_depois.fillna('')\n",
    "data_depois.head()"
   ]
  },
  {
   "cell_type": "code",
   "execution_count": 83,
   "metadata": {},
   "outputs": [],
   "source": [
    "#dicionario das palavras\n",
    "dict_palavras = dict()"
   ]
  },
  {
   "cell_type": "code",
   "execution_count": 28,
   "metadata": {},
   "outputs": [],
   "source": [
    "def merge(first_tuple,second_tuple):\n",
    "    \"\"\"\n",
    "    function that will merge two tuples\n",
    "    \n",
    "    Args\n",
    "    ----------\n",
    "    first_tuple: Tuple \n",
    "        first tuple we wont to merge\n",
    "    second_tuple: Tuple \n",
    "        second tuple we wont to merge\n",
    "    ----------\n",
    "    \n",
    "    Returns\n",
    "    ----------\n",
    "    merge_tuple: Tuple\n",
    "        return the merge between first_tuple and second_tuple\n",
    "    ----------\n",
    "    \"\"\"\n",
    "    merged_tuple = [] \n",
    "    for y in range(num_loop):\n",
    "        merged_tuple.append((first_tuple[y][0],first_tuple[y][1] + second_tuple[y][1]))\n",
    "    return merged_tuple"
   ]
  },
  {
   "cell_type": "code",
   "execution_count": 88,
   "metadata": {},
   "outputs": [],
   "source": [
    "def merge_binary(first_tuple,second_tuple):\n",
    "    \"\"\"\n",
    "    function that will merge two binary tuples\n",
    "    \n",
    "    Args\n",
    "    ----------\n",
    "    first_tuple: Tuple \n",
    "        first binary tuple we wont to merge\n",
    "    second_tuple: Tuple \n",
    "        second binary tuple we wont to merge\n",
    "    ----------\n",
    "    \n",
    "    Returns\n",
    "    ----------\n",
    "    merge_tuple: Tuple\n",
    "        return the merge between first_tuple and second_tuple, adding both binary numbers\n",
    "    ----------\n",
    "    \"\"\"\n",
    "    merged_binary_tuple = [] \n",
    "    for y in range(num_loop):\n",
    "        merged_binary_tuple.append((first_tuple[y][0],first_tuple[y][2] + second_tuple[y][2]))\n",
    "    return merged_binary_tuple"
   ]
  },
  {
   "cell_type": "code",
   "execution_count": 84,
   "metadata": {},
   "outputs": [],
   "source": [
    "def search_query(searched_word):\n",
    "    \"\"\"\n",
    "    function that will search for words equals \"searched_word\" in documents\n",
    "    \n",
    "    Args\n",
    "    ---------\n",
    "    searched_word: String\n",
    "        unique word that gonna be searched in documents\n",
    "    ---------\n",
    "    \n",
    "    Returns\n",
    "    ---------\n",
    "    dict_palavras[searched_word]: Array\n",
    "            return an array with all documents,frequency of occurrence and a binary term (that says \n",
    "            if the world is in that document or not) about that searched_word by document\n",
    "    ---------\n",
    "    \"\"\"\n",
    "    if(searched_word in dict_palavras):\n",
    "        return dict_palavras[searched_word]\n",
    "    else:\n",
    "        dict_palavras[searched_word] = []\n",
    "        for i in range(num_loop):\n",
    "            tf = 0\n",
    "            titulo = data_depois.loc[i,'titulo']\n",
    "            sub_titulo = data_depois.loc[i,'subTitulo']\n",
    "            conteudo = data_depois.loc[i,'conteudo']\n",
    "            new_world = titulo + \" \" + sub_titulo + \" \" + conteudo\n",
    "            new_world_nova = nltk.word_tokenize(new_world.lower())\n",
    "            for palavra in new_world_nova:\n",
    "                if(palavra == searched_word):\n",
    "                    tf = tf + 1\n",
    "            if(tf > 0):\n",
    "                dict_palavras[searched_word].append((data_depois.loc[i,'idNoticia'],tf,1))\n",
    "            else:\n",
    "                dict_palavras[searched_word].append((data_depois.loc[i,'idNoticia'],tf,0))\n",
    "    return dict_palavras[searched_word]"
   ]
  },
  {
   "cell_type": "code",
   "execution_count": 85,
   "metadata": {},
   "outputs": [
    {
     "data": {
      "text/plain": [
       "8716"
      ]
     },
     "execution_count": 85,
     "metadata": {},
     "output_type": "execute_result"
    }
   ],
   "source": [
    "len(search_query('segundo'))"
   ]
  },
  {
   "cell_type": "code",
   "execution_count": 86,
   "metadata": {},
   "outputs": [],
   "source": [
    "def simplest_vsm(query):\n",
    "    \"\"\"\n",
    "    \n",
    "    \n",
    "    \"\"\"\n",
    "\n",
    "    query_splited = nltk.word_tokenize(query)\n",
    "    i = 0\n",
    "    while(i < len(query_splited )-1):\n",
    "        final_result = merge_binary(search_query(query_splited[i]),search_query(query_splited[i+1]))\n",
    "        i+=1\n",
    "    final_result.sort(key = operator.itemgetter(1),reverse = True)\n",
    "    return final_result\n",
    "\n",
    "    "
   ]
  },
  {
   "cell_type": "code",
   "execution_count": 89,
   "metadata": {},
   "outputs": [
    {
     "name": "stdout",
     "output_type": "stream",
     "text": [
      "[(1, 2), (7, 2), (13, 2), (26, 2), (69, 2)]\n"
     ]
    }
   ],
   "source": [
    "a = simplest_vsm('segundo turno')\n",
    "#TOP5\n",
    "print(a[:5])"
   ]
  },
  {
   "cell_type": "code",
   "execution_count": 35,
   "metadata": {},
   "outputs": [],
   "source": [
    "def tf_vsm(query):\n",
    "    \"\"\"\n",
    "    function that will search for query's words in documents and return a array of \n",
    "    \n",
    "    tuple sorted by te frequency about these words\n",
    "    \n",
    "    Args\n",
    "    ----------\n",
    "    query: String\n",
    "        this query come from the user and will serve for do the search, looking for these words on the documents\n",
    "    ----------\n",
    "    \n",
    "    Returns\n",
    "    ---------\n",
    "    final_resut: Array\n",
    "        this array contain a sorted documents by the frequency of these query's words\n",
    "    ---------\n",
    "    \"\"\"\n",
    "    query_splited = nltk.word_tokenize(query)\n",
    "    i = 0\n",
    "    while(i < len(query_splited )-1):\n",
    "        final_result = merge(search_query(query_splited[i]),search_query(query_splited[i+1]))\n",
    "        i+=1\n",
    "    final_result.sort(key = operator.itemgetter(1),reverse = True)\n",
    "    return final_result\n",
    "\n"
   ]
  },
  {
   "cell_type": "code",
   "execution_count": 37,
   "metadata": {},
   "outputs": [
    {
     "name": "stdout",
     "output_type": "stream",
     "text": [
      "[(2744, 43), (7, 28), (2112, 26), (7672, 26), (2388, 24)]\n"
     ]
    }
   ],
   "source": [
    "b = tf_vsm('segundo turno')\n",
    "print(b[:5])"
   ]
  },
  {
   "cell_type": "code",
   "execution_count": 46,
   "metadata": {},
   "outputs": [],
   "source": [
    "#Modelo IDF\n",
    "#TODO working just for len(query) equals two\n",
    "\n",
    "\n",
    "def idf_vsm(query):\n",
    "    \"\"\"\n",
    "    \"\"\"\n",
    "    query_splited = nltk.word_tokenize(query)\n",
    "    first_tuple = []\n",
    "    second_tuple = []\n",
    "    idf1 = 0\n",
    "    idf2 = 0\n",
    "    first_idf = 0\n",
    "    second_idf = 0 \n",
    "    for i in  search_query(query_splited[0]):\n",
    "        if(i[1] > 0):\n",
    "            first_idf += 1\n",
    "    print (first_idf)\n",
    "    idf1 = math.log((num_loop+1)/first_idf)\n",
    "    print(idf1)\n",
    "    print(query_splited[0])\n",
    "    \n",
    "    for j in search_query(query_splited[1]):\n",
    "        if(j[1] > 0):\n",
    "            second_idf +=1\n",
    "    print(second_idf)\n",
    "    idf2 = math.log((num_loop + 1)/second_idf)\n",
    "    print(idf2)\n",
    "    print(query_splited[1])\n",
    "    \n",
    "    \n",
    "      \n",
    "    #a = merge_binary(first_tuple,second_tuple)\n",
    "    #a.sort(key = operator.itemgetter(1),reverse = True)\n",
    "    #return a\n",
    "\n",
    "\n",
    "    \n"
   ]
  },
  {
   "cell_type": "code",
   "execution_count": 47,
   "metadata": {},
   "outputs": [
    {
     "name": "stdout",
     "output_type": "stream",
     "text": [
      "4161\n",
      "0.7395197120286349\n",
      "segundo\n",
      "1441\n",
      "1.799937825012054\n",
      "turno\n"
     ]
    }
   ],
   "source": [
    "idf_vsm('segundo turno')"
   ]
  }
 ],
 "metadata": {
  "kernelspec": {
   "display_name": "Python 3",
   "language": "python",
   "name": "python3"
  },
  "language_info": {
   "codemirror_mode": {
    "name": "ipython",
    "version": 3
   },
   "file_extension": ".py",
   "mimetype": "text/x-python",
   "name": "python",
   "nbconvert_exporter": "python",
   "pygments_lexer": "ipython3",
   "version": "3.6.4"
  }
 },
 "nbformat": 4,
 "nbformat_minor": 2
}
