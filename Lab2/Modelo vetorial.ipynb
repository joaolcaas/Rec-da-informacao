{
 "cells": [
  {
   "cell_type": "markdown",
   "metadata": {},
   "source": [
    "Para esse segundo lab, vamos usar OO para criar nossos objetos e encapsulá-los de maneira mais eficaz\n"
   ]
  },
  {
   "cell_type": "code",
   "execution_count": 1,
   "metadata": {
    "collapsed": true
   },
   "outputs": [],
   "source": [
    "import pandas as pd\n",
    "import nltk as nltk"
   ]
  },
  {
   "cell_type": "code",
   "execution_count": 15,
   "metadata": {},
   "outputs": [],
   "source": [
    "#data_depois = pd.read_csv(\"C:\\\\Users\\\\joao_\\\\OneDrive\\\\Documentos\\\\Git\\\\Rec-da-informacao\\\\Lab2\\\\noticias_estadao_lab1.csv\")\n",
    "data_depois = pd.read_csv(\"/home/joaolaf/Área de Trabalho/estadao_noticias_eleicao.csv\")\n",
    "data_depois\n",
    "num_loop = data_depois.shape[0]"
   ]
  },
  {
   "cell_type": "code",
   "execution_count": 14,
   "metadata": {},
   "outputs": [],
   "source": [
    "#tratando os NaN\n",
    "data_depois = data_depois.fillna('')"
   ]
  },
  {
   "cell_type": "code",
   "execution_count": 44,
   "metadata": {
    "collapsed": true
   },
   "outputs": [],
   "source": [
    "#dicionario das palavras\n",
    "dict_palavras = dict()"
   ]
  },
  {
   "cell_type": "code",
   "execution_count": null,
   "metadata": {
    "collapsed": true
   },
   "outputs": [],
   "source": [
    "def procura_palavras(palavra_pesquisada):\n",
    "    if(palavra_pesquisada in dict_palavras):\n",
    "        return id_news[palavra_pesquisada]\n",
    "    else:\n",
    "        for i in range(num_loop):\n",
    "            titulo = data_depois.loc[x,titulo]"
   ]
  }
 ],
 "metadata": {
  "kernelspec": {
   "display_name": "Python 3",
   "language": "python",
   "name": "python3"
  },
  "language_info": {
   "codemirror_mode": {
    "name": "ipython",
    "version": 3
   },
   "file_extension": ".py",
   "mimetype": "text/x-python",
   "name": "python",
   "nbconvert_exporter": "python",
   "pygments_lexer": "ipython3",
   "version": "3.6.2"
  }
 },
 "nbformat": 4,
 "nbformat_minor": 2
}
