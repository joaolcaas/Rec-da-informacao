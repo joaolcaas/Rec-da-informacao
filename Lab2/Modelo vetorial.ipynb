{
 "cells": [
  {
   "cell_type": "markdown",
   "metadata": {},
   "source": [
    "Para esse segundo lab, vamos usar OO para criar nossos objetos e encapsulá-los de maneira mais eficaz\n"
   ]
  },
  {
   "cell_type": "code",
   "execution_count": 16,
   "metadata": {},
   "outputs": [
    {
     "data": {
      "text/plain": [
       "True"
      ]
     },
     "execution_count": 16,
     "metadata": {},
     "output_type": "execute_result"
    }
   ],
   "source": [
    "class Word():\n",
    "    def __init__(self,word,frequency,document):\n",
    "        self.word = word\n",
    "        self.frequency = frequency\n",
    "        self.document = document\n",
    "    \n",
    "    def __returnWord(self, word):\n",
    "        print(self.word)\n",
    "        \n",
    "    def __eq__(self,obj):\n",
    "        if type(obj) == str:\n",
    "            return self.word == obj\n",
    "    def __gt__(self,)\n",
    "\n",
    "cachorro = Word(\"cachorro\",1,2)\n",
    "\"cachorro\" == cachorro"
   ]
  }
 ],
 "metadata": {
  "kernelspec": {
   "display_name": "Python 3",
   "language": "python",
   "name": "python3"
  },
  "language_info": {
   "codemirror_mode": {
    "name": "ipython",
    "version": 3
   },
   "file_extension": ".py",
   "mimetype": "text/x-python",
   "name": "python",
   "nbconvert_exporter": "python",
   "pygments_lexer": "ipython3",
   "version": "3.6.2"
  }
 },
 "nbformat": 4,
 "nbformat_minor": 2
}
