{
 "cells": [
  {
   "cell_type": "markdown",
   "metadata": {},
   "source": [
    "<h2>Lab 1 - Indice invertido e Busca booleana<h2>"
   ]
  },
  {
   "cell_type": "markdown",
   "metadata": {},
   "source": [
    "<h3>Para esse lab, vamos utilizar as seguintes bibliotecas:<h3>"
   ]
  },
  {
   "cell_type": "code",
   "execution_count": 2,
   "metadata": {},
   "outputs": [],
   "source": [
    "import pandas as pd\n",
    "import nltk as nltk"
   ]
  },
  {
   "cell_type": "code",
   "execution_count": 3,
   "metadata": {
    "scrolled": true
   },
   "outputs": [],
   "source": [
    "df = pd.read_csv(\"C:\\\\Users\\\\joao_\\\\Downloads\\\\noticias_estadao.csv\")"
   ]
  },
  {
   "cell_type": "markdown",
   "metadata": {},
   "source": [
    "Para pesquisar pelas palavras presentes no data frame vamos usar dois laços. O primeiro junta o título de cada documento com o conteúdo. Depois disso fazemos um split e, no segundo laço, vamos pesquisar se a palavra que queremos está dentro daquela nova string."
   ]
  },
  {
   "cell_type": "code",
   "execution_count": 51,
   "metadata": {
    "scrolled": true
   },
   "outputs": [],
   "source": [
    "#funcao para buscar as palavras desejadas\n",
    "id_news = dict()  \n",
    "def busca_termo(palavra_pesquisada):\n",
    "    if(palavra_pesquisada in id_news):\n",
    "        return id_news\n",
    "    else:\n",
    "        for x in range(df.shape[0]):             #fazer disso uma funcao  usar -> df.shape[0]  \n",
    "            titulo = df.loc[x,'titulo']         #pego o titulo df.loc -> provavelmente no lab será df.ix\n",
    "            conteudo = df.loc[x,'conteudo']      #pego o conteudo\n",
    "            newWorld = titulo +  \" \" +  conteudo      #concateno os dois separado por espaço\n",
    "            newNova = nltk.word_tokenize(newWorld.lower())   #faço split usando nltk botando tudo para lower case\n",
    "            for y in range(len(newNova)):               #faço outro for para percorrer esse novo split procurando a palavra que eu quero\n",
    "                if(newNova[y] == palavra_pesquisada):  \n",
    "                    if(palavra_pesquisada in id_news):\n",
    "                        id_news[palavra_pesquisada].append(df.loc[x,'idNoticia'])              #posso usar o x do primeiro for por que é o mesmo número do ID\n",
    "                        break;                        #parar para que eu não coloque mais do mesmo indice, caso apareça mais de uma vez\n",
    "                    else:\n",
    "                        id_news[palavra_pesquisada] = [df.loc[x,'idNoticia']]\n",
    "                        break;    \n",
    "                    \n",
    "        return id_news\n"
   ]
  },
  {
   "cell_type": "code",
   "execution_count": 40,
   "metadata": {},
   "outputs": [
    {
     "data": {
      "text/plain": [
       "201"
      ]
     },
     "execution_count": 40,
     "metadata": {},
     "output_type": "execute_result"
    }
   ],
   "source": [
    "#local onde vamos fazer o AND\n",
    "\n",
    "\n",
    "def buscar_and(palavra1,palavra2):\n",
    "    \n",
    "    iterator1 = 0\n",
    "    iterator2 = 0\n",
    "    \n",
    "    and_answer = []\n",
    "    \n",
    "    first = busca_termo(palavra1)\n",
    "    second = busca_termo(palavra2)\n",
    "    \n",
    "    id_and1 = first[palavra1]\n",
    "    id_and2 = second[palavra2]\n",
    "    \n",
    "    while(iterator1 < len(id_and1) and iterator2 < len(id_and2)):\n",
    "      if(id_and1[iterator1] == id_and2[iterator2]):\n",
    "          and_answer.append(id_and1[iterator1])\n",
    "          iterator1 +=1\n",
    "          iterator2 +=1\n",
    "      elif(id_and2[iterator2] > id_and1[iterator1]):\n",
    "          iterator1 +=1\n",
    "      else:\n",
    "          iterator2 += 1\n",
    "    return and_answer\n",
    "\n",
    "#resultado eh 201\n",
    "#assert len(search(\"debate AND presidencial\")) \n",
    "assert1_and = buscar_and('debate','presidencial')\n",
    "len(assert1_and)"
   ]
  },
  {
   "cell_type": "code",
   "execution_count": 14,
   "metadata": {},
   "outputs": [
    {
     "data": {
      "text/plain": [
       "0"
      ]
     },
     "execution_count": 14,
     "metadata": {},
     "output_type": "execute_result"
    }
   ],
   "source": [
    "#assert len(search(\"presidenciáveis AND corruptos\")) == 0\n",
    "assert2_and = buscar_and('presidenciáveis','corruptos')\n",
    "len(assert2_and)"
   ]
  },
  {
   "cell_type": "code",
   "execution_count": 15,
   "metadata": {},
   "outputs": [
    {
     "data": {
      "text/plain": [
       "242"
      ]
     },
     "execution_count": 15,
     "metadata": {},
     "output_type": "execute_result"
    }
   ],
   "source": [
    "#assert len(search(\"Belo AND Horizonte\")) == 242\n",
    "assert3_and = buscar_and('belo','horizonte')\n",
    "len(assert3_and)"
   ]
  },
  {
   "cell_type": "code",
   "execution_count": 54,
   "metadata": {
    "scrolled": true
   },
   "outputs": [
    {
     "data": {
      "text/plain": [
       "1769"
      ]
     },
     "execution_count": 54,
     "metadata": {},
     "output_type": "execute_result"
    }
   ],
   "source": [
    "#local onde vamos fazer o OR\n",
    "\n",
    "def buscar_or(palavra1,palavra2):\n",
    "    \n",
    "    iterator1 = 0\n",
    "    iterator2 = 0\n",
    "    \n",
    "    or_answer = []\n",
    "    \n",
    "    first = busca_termo(palavra1)\n",
    "    second = busca_termo(palavra2)\n",
    "    \n",
    "    id_or1 = first[palavra1]\n",
    "    id_or2 = second[palavra2]\n",
    "    \n",
    "    while(iterator1 < len(id_or1) and iterator2 < len(id_or2)):\n",
    "          if(id_or1[iterator1] == id_or2[iterator2]):\n",
    "              or_answer.append(id_or1[iterator1])\n",
    "              iterator1 +=1\n",
    "              iterator2 +=1\n",
    "          elif(id_or2[iterator2] > id_or1[iterator1]):\n",
    "              or_answer.append(id_or1[iterator1])\n",
    "              iterator1 += 1\n",
    "          else:\n",
    "              or_answer.append(id_or2[iterator2])\n",
    "              iterator2 += 1\n",
    "    return or_answer\n",
    "\n",
    "#assert len(search(\"debate OR presidencial\")) == 1770\n",
    "assert1_or = buscar_or('debate','presidencial')\n",
    "len(assert1_or)"
   ]
  },
  {
   "cell_type": "code",
   "execution_count": 56,
   "metadata": {},
   "outputs": [
    {
     "data": {
      "text/plain": [
       "159"
      ]
     },
     "execution_count": 56,
     "metadata": {},
     "output_type": "execute_result"
    }
   ],
   "source": [
    "#assert len(search(\"presidenciáveis OR corruptos\")) == 164\n",
    "assert2_or = buscar_or('presidenciáveis','corruptos')\n",
    "len(assert2_or)"
   ]
  },
  {
   "cell_type": "code",
   "execution_count": 58,
   "metadata": {},
   "outputs": [
    {
     "data": {
      "text/plain": [
       "330"
      ]
     },
     "execution_count": 58,
     "metadata": {},
     "output_type": "execute_result"
    }
   ],
   "source": [
    "#assert len(search(\"Belo OR Horizonte\")) == 331\n",
    "assert3_or = buscar_or('horizonte','belo')\n",
    "len(assert3_or)"
   ]
  }
 ],
 "metadata": {
  "kernelspec": {
   "display_name": "Python 3",
   "language": "python",
   "name": "python3"
  },
  "language_info": {
   "codemirror_mode": {
    "name": "ipython",
    "version": 3
   },
   "file_extension": ".py",
   "mimetype": "text/x-python",
   "name": "python",
   "nbconvert_exporter": "python",
   "pygments_lexer": "ipython3",
   "version": "3.6.4"
  }
 },
 "nbformat": 4,
 "nbformat_minor": 2
}
